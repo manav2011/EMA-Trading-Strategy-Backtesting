{
 "cells": [
  {
   "cell_type": "code",
   "execution_count": 29,
   "metadata": {},
   "outputs": [],
   "source": [
    "from datetime import date\n",
    "from nsepy import get_history\n",
    "import pandas as pd\n",
    "import matplotlib.pyplot as plt\n",
    "import csv"
   ]
  },
  {
   "cell_type": "code",
   "execution_count": 44,
   "metadata": {},
   "outputs": [
    {
     "name": "stdout",
     "output_type": "stream",
     "text": [
      "['ACC', 'ADANIPORTS', 'ADANITRANS', 'AMBUJACEM', 'ASHOKLEY', 'ASIANPAINT', 'AUROPHARMA', 'DMART', 'AXISBANK', 'BAJAJ-AUTO', 'BAJFINANCE', 'BAJAJFINSV', 'BAJAJHLDNG', 'BANDHANBNK', 'BANKBARODA', 'BERGEPAINT', 'BPCL', 'BHARTIARTL', 'INFRATEL', 'BIOCON', 'BOSCHLTD', 'BRITANNIA', 'CADILAHC', 'CIPLA', 'COALINDIA', 'COLPAL', 'CONCOR', 'DLF', 'DABUR', 'DIVISLAB', 'DRREDDY', 'EICHERMOT', 'GAIL', 'GICRE', 'GODREJCP', 'GRASIM', 'HCLTECH', 'HDFCAMC', 'HDFCBANK', 'HDFCLIFE', 'HAVELLS', 'HEROMOTOCO', 'HINDALCO', 'HINDPETRO', 'HINDUNILVR', 'HINDZINC', 'HDFC', 'ICICIBANK', 'ICICIGI', 'ICICIPRULI', 'ITC', 'IBULHSGFIN', 'IOC', 'INDUSINDBK', 'INFY', 'INDIGO', 'JSWSTEEL', 'KOTAKBANK', 'L&TFH', 'LT', 'LUPIN', 'M&M', 'MARICO', 'MARUTI', 'MOTHERSUMI', 'NHPC', 'NMDC', 'NTPC', 'NESTLEIND', 'ONGC', 'OFSS', 'PAGEIND', 'PETRONET', 'PIDILITIND', 'PEL', 'PFC', 'POWERGRID', 'PGHH', 'PNB', 'RELIANCE', 'SBILIFE', 'SHREECEM', 'SRTRANSFIN', 'SIEMENS', 'SBIN', 'SUNPHARMA', 'TCS', 'TATAMTRDVR', 'TATAMOTORS', 'TATASTEEL', 'TECHM', 'NIACL', 'TITAN', 'UPL', 'ULTRACEMCO', 'UBL', 'MCDOWELL-N', 'VEDL', 'IDEA', 'WIPRO', 'ZEEL']\n"
     ]
    }
   ],
   "source": [
    "filename = \"ind_nifty100list.csv\"\n",
    "symbols = []\n",
    "\n",
    "with open(filename, 'r') as csvfile:\n",
    "    csvreader = csv.reader(csvfile) \n",
    "    for row in csvreader:\n",
    "        symbols.append(row[2])\n",
    "\n",
    "n = len(symbols)\n",
    "symbols = symbols[1:n]\n",
    "n = len(symbols)\n",
    "print(symbols)"
   ]
  },
  {
   "cell_type": "code",
   "execution_count": 43,
   "metadata": {},
   "outputs": [
    {
     "name": "stdout",
     "output_type": "stream",
     "text": [
      "[8002.713962675656, 7362.336860263153, 10859.986949668511, 8083.855363353796, 12054.387606148233, 9729.657427792223, 10996.129096035482, 20000, 7695.51517476047, 7957.518938884749]\n"
     ]
    }
   ],
   "source": [
    "moneylist = []\n",
    "for i in range(0, 10):\n",
    "    company = get_history(symbol = symbols[i], start=date(2017,1,1), end=date(2019,1,1))\n",
    "    ema20 = []\n",
    "    ema50 = []\n",
    "    ema20 = list(company['Close'].ewm(span = 20).mean())\n",
    "    ema50 = list(company['Close'].ewm(span = 50).mean())\n",
    "    money = 10000\n",
    "    stocks = 0\n",
    "    temp = 0\n",
    "    l = len(ema20)\n",
    "    for j in range(50, l):\n",
    "        if(ema20[j-1] <= ema50[j-1] and ema20[j] > ema50[j]):\n",
    "#         print(sbin.index[i], sbin['Close'][i], \"Yes, buy it\")\n",
    "            if(stocks < 0):\n",
    "                money += stocks*company['Close'][j]\n",
    "                stocks = 0\n",
    "            stocks = money / company['Close'][j]\n",
    "            money = 0\n",
    "#             print(stocks, money, sbin['Close'][i])\n",
    "        if(ema20[j-1] >= ema50[j-1] and ema20[j] < ema50[j]):\n",
    "#         print(sbin.index[i], sbin['Close'][i], \"Sell it\")\n",
    "            if(stocks == 0):\n",
    "                stocks = -(money/company['Close'][j])\n",
    "                money = 2 * money\n",
    "            else:            \n",
    "                money = stocks * company['Close'][j]\n",
    "                stocks = 0\n",
    "            temp = money\n",
    "#             print(stocks, money, sbin['Close'][i])\n",
    "\n",
    "    moneylist.append(temp)\n",
    "    \n",
    "print(moneylist)\n",
    "        "
   ]
  },
  {
   "cell_type": "code",
   "execution_count": null,
   "metadata": {},
   "outputs": [],
   "source": []
  }
 ],
 "metadata": {
  "kernelspec": {
   "display_name": "Python 3",
   "language": "python",
   "name": "python3"
  },
  "language_info": {
   "codemirror_mode": {
    "name": "ipython",
    "version": 3
   },
   "file_extension": ".py",
   "mimetype": "text/x-python",
   "name": "python",
   "nbconvert_exporter": "python",
   "pygments_lexer": "ipython3",
   "version": "3.7.6"
  }
 },
 "nbformat": 4,
 "nbformat_minor": 4
}
